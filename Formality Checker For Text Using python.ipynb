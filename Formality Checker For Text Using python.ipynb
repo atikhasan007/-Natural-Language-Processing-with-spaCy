{
 "cells": [
  {
   "cell_type": "code",
   "execution_count": 2,
   "id": "b3203c6c",
   "metadata": {},
   "outputs": [],
   "source": [
    "from textblob import TextBlob\n",
    "import re\n",
    "\n",
    "#Expended formal and informal word list\n",
    "formal_words = set([\n",
    "    \"please\", \"thank you\", \"sincerely\", \"best regards\", \"kindly\", \"excuse me\", \"dear\", \"respectfully\", \n",
    "    \"honored\", \"appreciate\", \"cordially\", \"regards\", \"with respect\", \"for your consideration\", \"would you mind\", \n",
    "    \"grateful\", \"acknowledge\", \"thankful\", \"truly\", \"understanding\", \"yours truly\", \"faithfully\", \"congratulations\", \n",
    "    \"compliments\", \"with appreciation\", \"much obliged\", \"could you\", \"may I\", \"please be advised\", \"permit me\", \n",
    "    \"in compliance\", \"at your earliest convenience\", \"I look forward to\", \"please let me know\", \"to whom it may concern\", \n",
    "    \"please find attached\", \"appreciatively\", \"with all due respect\", \"it would be appreciated\", \"it is my honor\", \n",
    "    \"I would like to\", \"I would appreciate\", \"best wishes\", \"for your information\", \"kind regards\", \"thanks in advance\", \n",
    "    \"yours sincerely\", \"in regards to\", \"with gratitude\", \"in appreciation\", \"with best wishes\", \"could you kindly\", \n",
    "    \"looking forward to\", \"with the utmost respect\", \"please accept\", \"with warm regards\", \"with kind regards\", \n",
    "    \"at your service\", \"please confirm\", \"my pleasure\", \"respectfully yours\", \"I humbly\", \"we are grateful\", \n",
    "    \"please inform\", \"as per your request\", \"in your service\", \"as previously mentioned\", \"I trust\", \n",
    "    \"with respect and appreciation\", \"please advise\", \"your prompt response is appreciated\", \"I would be happy to\", \n",
    "    \"thank you very much\", \"I hope this finds you well\", \"I am writing to\", \"thank you for your time\", \n",
    "    \"it is my privilege\", \"your attention to this matter\", \"looking forward\", \"it would be my pleasure\", \"have a great day\", \n",
    "    \"gratefully\", \"best regards\", \"thank you for your cooperation\", \"with sincere regards\", \"it would be an honor\", \n",
    "    \"please be reminded\", \"in good faith\", \"with consideration\", \"your feedback is appreciated\", \"I would be delighted\", \n",
    "    \"please note\", \"with thanks\", \"with appreciation\", \"to be continued\", \"please take note\", \"I hope to hear from you\", \n",
    "    \"in conclusion\", \"yours faithfully\"\n",
    "])\n",
    "\n",
    "informal_words = set([\n",
    "    \"hey\", \"yo\", \"sup\", \"wanna\", \"gimme\", \"okay\", \"lol\", \"yo\", \"bro\", \"dude\", \"chill\", \"buddy\", \"what's up\", \"nah\", \n",
    "    \"bff\", \"lmao\", \"omg\", \"lolz\", \"rofl\", \"idk\", \"ttyl\", \"brb\", \"catch you later\", \"peace\", \"fam\", \"no worries\", \n",
    "    \"whatever\", \"cya\", \"k\", \"pls\", \"gotcha\", \"no prob\", \"tbh\", \"lmfao\", \"holla\", \"hype\", \"cray\", \"l8r\", \"yeah\", \n",
    "    \"yass\", \"babe\", \"yo dude\", \"dawg\", \"wut\", \"wth\", \"chillax\", \"bffl\", \"glhf\", \"fml\", \"smh\", \"wtf\", \"yo man\", \n",
    "    \"soo\", \"lolol\", \"lmao\", \"broke\", \"yolo\", \"lit\", \"savage\", \"hit me up\", \"stay woke\", \"good vibes\", \"let's go\", \n",
    "    \"hey yo\", \"wanna go\", \"brother\", \"homie\", \"sure thing\", \"let's catch up\", \"let me know\", \"ain't nobody\", \"hit me\", \n",
    "    \"chillin\", \"what's good\", \"grub\", \"swag\", \"bored\", \"no cap\", \"vibe\", \"gurl\", \"hey there\", \"come thru\", \"y'all\", \n",
    "    \"fomo\", \"yo girl\", \"that's fire\", \"send it\", \"catch ya\", \"mad\", \"lucky\", \"peace out\", \"squad\", \"g'day\", \"yo fam\", \n",
    "    \"slay\", \"dank\", \"flex\", \"slay queen\", \"cringe\", \"bruh\", \"rly\", \"imma\", \"who's down\", \"bored af\", \"lowkey\", \n",
    "    \"highkey\", \"for real\", \"sheesh\", \"bet\", \"on fleek\", \"g'day mate\", \"dank memes\", \"smash\", \"hit me up later\", \"nah fam\", \n",
    "    \"goals\", \"peace bro\", \"weird flex\", \"lit af\", \"sick\", \"that's dope\", \"howdy\", \"gimme a sec\"\n",
    "])"
   ]
  },
  {
   "cell_type": "code",
   "execution_count": 3,
   "id": "076dd392",
   "metadata": {},
   "outputs": [],
   "source": [
    "#custom function to check for foram tone\n",
    "def check_formality(text):\n",
    "    #analyze the text with TextBlob for sentiment analysis (polarity)\n",
    "    blob = TextBlob(text)\n",
    "    \n",
    "    #lowercase the words and split them\n",
    "    words = set(blob.words.lower())\n",
    "    \n",
    "    #count formality score based on vocabulary\n",
    "    formal_score = sum(1 for word in words if word in formal_words)\n",
    "    informal_score = sum(1 for word in words if word in informal_words)\n",
    "    \n",
    "    #if formal words dominate, it's formal , if informal words dominate, it's informal\n",
    "    if formal_score > informal_score:\n",
    "        return \"formal\"\n",
    "    elif formal_score < informal_score:\n",
    "        return \"informal_score\"\n",
    "    else:\n",
    "        #check sentiment polarity to classify borderline cases \n",
    "        polarity = blob.sentiment.polarity\n",
    "        if polarity > 0.1:\n",
    "            return \"formal\"\n",
    "        elif polarity < -0.1:\n",
    "            return \"informal\"\n",
    "        else:\n",
    "            return \"natural\"\n",
    "        \n",
    "    "
   ]
  },
  {
   "cell_type": "code",
   "execution_count": 4,
   "id": "36a6dc8d",
   "metadata": {},
   "outputs": [
    {
     "name": "stdout",
     "output_type": "stream",
     "text": [
      "Type here... or type \"exit\" to quit :Type here... or type \"exit\" to quit:  \"Dear Sir/Madam, I hope this message finds you well. I am writing to inquire about the status of my application. I would appreciate it if you could provide me with an update at your earliest convenience. Thank you for your time and consideration.\"\n",
      "Formality: formal\n",
      "Type here... or type \"exit\" to quit :Hey, what’s up? Wanna grab a coffee later? Hit me up if you're free.\n",
      "Formality: informal_score\n",
      "Type here... or type \"exit\" to quit :\"Dear Sir/Madam, I hope this message finds you well. I am writing to inquire about the status of my application. I would appreciate it if you could provide me with an update at your earliest convenience. Thank you for your time and consideration\n",
      "Formality: formal\n",
      "Type here... or type \"exit\" to quit :dgl\n",
      "Formality: natural\n",
      "Type here... or type \"exit\" to quit :exit\n"
     ]
    }
   ],
   "source": [
    "#text with user input\n",
    "while True:\n",
    "    text_input = input('Type here... or type \"exit\" to quit :')\n",
    "    \n",
    "    if text_input.lower() == 'exit':\n",
    "        break\n",
    "    #check formality of the text\n",
    "    formality = check_formality(text_input)\n",
    "    print(f\"Formality: {formality}\")"
   ]
  },
  {
   "cell_type": "code",
   "execution_count": null,
   "id": "2c770824",
   "metadata": {},
   "outputs": [],
   "source": []
  },
  {
   "cell_type": "code",
   "execution_count": null,
   "id": "3b0c7ac0",
   "metadata": {},
   "outputs": [],
   "source": []
  },
  {
   "cell_type": "code",
   "execution_count": null,
   "id": "d67f24ba",
   "metadata": {},
   "outputs": [],
   "source": []
  },
  {
   "cell_type": "code",
   "execution_count": null,
   "id": "be299785",
   "metadata": {},
   "outputs": [],
   "source": []
  }
 ],
 "metadata": {
  "kernelspec": {
   "display_name": "Python 3 (ipykernel)",
   "language": "python",
   "name": "python3"
  },
  "language_info": {
   "codemirror_mode": {
    "name": "ipython",
    "version": 3
   },
   "file_extension": ".py",
   "mimetype": "text/x-python",
   "name": "python",
   "nbconvert_exporter": "python",
   "pygments_lexer": "ipython3",
   "version": "3.11.6"
  }
 },
 "nbformat": 4,
 "nbformat_minor": 5
}
