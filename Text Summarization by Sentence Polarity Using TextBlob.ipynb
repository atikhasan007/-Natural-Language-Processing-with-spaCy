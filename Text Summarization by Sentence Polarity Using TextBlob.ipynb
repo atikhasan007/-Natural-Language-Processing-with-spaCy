{
 "cells": [
  {
   "cell_type": "code",
   "execution_count": 4,
   "id": "6be62e5c",
   "metadata": {},
   "outputs": [
    {
     "name": "stdout",
     "output_type": "stream",
     "text": [
      "Positive Summary: I love this place.It's beautiful! The weather is great.\n"
     ]
    }
   ],
   "source": [
    "from textblob import TextBlob\n",
    "\n",
    "#example text\n",
    "text = \"I love this place.It's beautiful! The weather is great. I hate the traffic.\"\n",
    "\n",
    "#create the TextBlob\n",
    "blob = TextBlob(text)\n",
    "\n",
    "#summarize by filtering positive sentiences\n",
    "summary = ' '.join([sentence.string for sentence in blob.sentences if sentence.sentiment.polarity > 0])\n",
    "print(\"Positive Summary:\", summary)"
   ]
  },
  {
   "cell_type": "code",
   "execution_count": null,
   "id": "1e2cf7ba",
   "metadata": {},
   "outputs": [],
   "source": []
  }
 ],
 "metadata": {
  "kernelspec": {
   "display_name": "Python 3 (ipykernel)",
   "language": "python",
   "name": "python3"
  },
  "language_info": {
   "codemirror_mode": {
    "name": "ipython",
    "version": 3
   },
   "file_extension": ".py",
   "mimetype": "text/x-python",
   "name": "python",
   "nbconvert_exporter": "python",
   "pygments_lexer": "ipython3",
   "version": "3.11.6"
  }
 },
 "nbformat": 4,
 "nbformat_minor": 5
}
