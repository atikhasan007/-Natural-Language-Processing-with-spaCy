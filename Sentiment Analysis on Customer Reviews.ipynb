{
 "cells": [
  {
   "cell_type": "raw",
   "id": "050fea41",
   "metadata": {},
   "source": [
    "Two possibles\n",
    "Real Time Sentiment detection\n",
    "Detection Sentiment from text (custom data)"
   ]
  },
  {
   "cell_type": "code",
   "execution_count": 1,
   "id": "2847f822",
   "metadata": {},
   "outputs": [
    {
     "name": "stdout",
     "output_type": "stream",
     "text": [
      "Enter your text or press exit to leave : exit\n",
      "\n",
      "\n",
      "Netural\n",
      "Good Bye\n"
     ]
    }
   ],
   "source": [
    "#real time Detection\n",
    "from textblob import TextBlob\n",
    "while True:\n",
    "\n",
    "    input_text = input(\"Enter your text or press exit to leave : \")\n",
    "    print(\"\\n\")\n",
    "    text = TextBlob(input_text)\n",
    "    sentiment = text.sentiment.polarity\n",
    "    if sentiment > 0:\n",
    "        print(\"Prositive\")\n",
    "    elif sentiment == 0:\n",
    "        print(\"Netural\")\n",
    "    else:\n",
    "        print(\"Negative\")\n",
    "\n",
    "    if input_text == \"exit\":\n",
    "        print(\"Good Bye\")\n",
    "        break\n",
    "\n",
    "\n"
   ]
  },
  {
   "cell_type": "code",
   "execution_count": 2,
   "id": "06771ef0",
   "metadata": {},
   "outputs": [
    {
     "name": "stdout",
     "output_type": "stream",
     "text": [
      "helo\n"
     ]
    }
   ],
   "source": [
    "print(\"helo\")"
   ]
  },
  {
   "cell_type": "markdown",
   "id": "49548b87",
   "metadata": {},
   "source": [
    "# Function ON custom data "
   ]
  },
  {
   "cell_type": "code",
   "execution_count": 14,
   "id": "cd174477",
   "metadata": {},
   "outputs": [],
   "source": [
    "import pandas as pd\n",
    "\n",
    "def sentiment_detection(text):\n",
    "    text = text.lower()\n",
    "    \n",
    "    blob_text = TextBlob(text)\n",
    "    sentiment = blob_text.sentiment.polarity\n",
    "    if sentiment == 0:\n",
    "        return \"Natural\"\n",
    "    elif sentiment > 0:\n",
    "        return \"Positive\"\n",
    "    else:\n",
    "        return \"Negative\"\n",
    "    "
   ]
  },
  {
   "cell_type": "code",
   "execution_count": 15,
   "id": "49a39352",
   "metadata": {},
   "outputs": [],
   "source": [
    "import pandas as pd\n",
    "\n",
    "df = pd.read_csv('/home/catpc/Downloads/archive (10)/redmi6.csv', encoding='ISO-8859-1')\n"
   ]
  },
  {
   "cell_type": "code",
   "execution_count": 16,
   "id": "309bcf9d",
   "metadata": {},
   "outputs": [
    {
     "data": {
      "text/html": [
       "<div>\n",
       "<style scoped>\n",
       "    .dataframe tbody tr th:only-of-type {\n",
       "        vertical-align: middle;\n",
       "    }\n",
       "\n",
       "    .dataframe tbody tr th {\n",
       "        vertical-align: top;\n",
       "    }\n",
       "\n",
       "    .dataframe thead th {\n",
       "        text-align: right;\n",
       "    }\n",
       "</style>\n",
       "<table border=\"1\" class=\"dataframe\">\n",
       "  <thead>\n",
       "    <tr style=\"text-align: right;\">\n",
       "      <th></th>\n",
       "      <th>Review Title</th>\n",
       "      <th>Customer name</th>\n",
       "      <th>Rating</th>\n",
       "      <th>Date</th>\n",
       "      <th>Category</th>\n",
       "      <th>Comments</th>\n",
       "      <th>Useful</th>\n",
       "    </tr>\n",
       "  </thead>\n",
       "  <tbody>\n",
       "    <tr>\n",
       "      <th>0</th>\n",
       "      <td>Another Midrange killer Smartphone by Xiaomi</td>\n",
       "      <td>Rishikumar Thakur</td>\n",
       "      <td>4.0 out of 5 stars</td>\n",
       "      <td>on 1 October 2018</td>\n",
       "      <td>Display</td>\n",
       "      <td>Another Midrange killer Smartphone by Xiaomi\\n...</td>\n",
       "      <td></td>\n",
       "    </tr>\n",
       "    <tr>\n",
       "      <th>1</th>\n",
       "      <td>vry small size mobile</td>\n",
       "      <td>Raza ji</td>\n",
       "      <td>3.0 out of 5 stars</td>\n",
       "      <td>on 15 September 2018</td>\n",
       "      <td>Others</td>\n",
       "      <td>All ok but vry small size mobile</td>\n",
       "      <td>7 people found this helpful</td>\n",
       "    </tr>\n",
       "    <tr>\n",
       "      <th>2</th>\n",
       "      <td>Full display not working in all application.</td>\n",
       "      <td>Vaibhav Patel</td>\n",
       "      <td>3.0 out of 5 stars</td>\n",
       "      <td>on 18 September 2018</td>\n",
       "      <td>Others</td>\n",
       "      <td>Quite good</td>\n",
       "      <td>7 people found this helpful</td>\n",
       "    </tr>\n",
       "    <tr>\n",
       "      <th>3</th>\n",
       "      <td>Value for Money</td>\n",
       "      <td>Amazon Customer</td>\n",
       "      <td>5.0 out of 5 stars</td>\n",
       "      <td>on 28 September 2018</td>\n",
       "      <td>Display</td>\n",
       "      <td>Redmi has always have been the the king of bud...</td>\n",
       "      <td>2 people found this helpful</td>\n",
       "    </tr>\n",
       "    <tr>\n",
       "      <th>4</th>\n",
       "      <td>Not worth for the money</td>\n",
       "      <td>Sudhakaran Wadakkancheri</td>\n",
       "      <td>2.0 out of 5 stars</td>\n",
       "      <td>on 18 September 2018</td>\n",
       "      <td>Others</td>\n",
       "      <td>worst product from MI. I am a hardcore fan of ...</td>\n",
       "      <td>6 people found this helpful</td>\n",
       "    </tr>\n",
       "  </tbody>\n",
       "</table>\n",
       "</div>"
      ],
      "text/plain": [
       "                                   Review Title             Customer name  \\\n",
       "0  Another Midrange killer Smartphone by Xiaomi         Rishikumar Thakur   \n",
       "1                         vry small size mobile                   Raza ji   \n",
       "2  Full display not working in all application.             Vaibhav Patel   \n",
       "3                               Value for Money           Amazon Customer   \n",
       "4                       Not worth for the money  Sudhakaran Wadakkancheri   \n",
       "\n",
       "               Rating                  Date Category  \\\n",
       "0  4.0 out of 5 stars     on 1 October 2018  Display   \n",
       "1  3.0 out of 5 stars  on 15 September 2018   Others   \n",
       "2  3.0 out of 5 stars  on 18 September 2018   Others   \n",
       "3  5.0 out of 5 stars  on 28 September 2018  Display   \n",
       "4  2.0 out of 5 stars  on 18 September 2018   Others   \n",
       "\n",
       "                                            Comments  \\\n",
       "0  Another Midrange killer Smartphone by Xiaomi\\n...   \n",
       "1                   All ok but vry small size mobile   \n",
       "2                                         Quite good   \n",
       "3  Redmi has always have been the the king of bud...   \n",
       "4  worst product from MI. I am a hardcore fan of ...   \n",
       "\n",
       "                        Useful  \n",
       "0                               \n",
       "1  7 people found this helpful  \n",
       "2  7 people found this helpful  \n",
       "3  2 people found this helpful  \n",
       "4  6 people found this helpful  "
      ]
     },
     "execution_count": 16,
     "metadata": {},
     "output_type": "execute_result"
    }
   ],
   "source": [
    "df.head()"
   ]
  },
  {
   "cell_type": "code",
   "execution_count": 17,
   "id": "73e8fdbe",
   "metadata": {},
   "outputs": [],
   "source": [
    "df = df[['Customer name','Comments']]"
   ]
  },
  {
   "cell_type": "code",
   "execution_count": 18,
   "id": "b5f5e179",
   "metadata": {},
   "outputs": [
    {
     "data": {
      "text/html": [
       "<div>\n",
       "<style scoped>\n",
       "    .dataframe tbody tr th:only-of-type {\n",
       "        vertical-align: middle;\n",
       "    }\n",
       "\n",
       "    .dataframe tbody tr th {\n",
       "        vertical-align: top;\n",
       "    }\n",
       "\n",
       "    .dataframe thead th {\n",
       "        text-align: right;\n",
       "    }\n",
       "</style>\n",
       "<table border=\"1\" class=\"dataframe\">\n",
       "  <thead>\n",
       "    <tr style=\"text-align: right;\">\n",
       "      <th></th>\n",
       "      <th>Customer name</th>\n",
       "      <th>Comments</th>\n",
       "    </tr>\n",
       "  </thead>\n",
       "  <tbody>\n",
       "    <tr>\n",
       "      <th>0</th>\n",
       "      <td>Rishikumar Thakur</td>\n",
       "      <td>Another Midrange killer Smartphone by Xiaomi\\n...</td>\n",
       "    </tr>\n",
       "    <tr>\n",
       "      <th>1</th>\n",
       "      <td>Raza ji</td>\n",
       "      <td>All ok but vry small size mobile</td>\n",
       "    </tr>\n",
       "    <tr>\n",
       "      <th>2</th>\n",
       "      <td>Vaibhav Patel</td>\n",
       "      <td>Quite good</td>\n",
       "    </tr>\n",
       "    <tr>\n",
       "      <th>3</th>\n",
       "      <td>Amazon Customer</td>\n",
       "      <td>Redmi has always have been the the king of bud...</td>\n",
       "    </tr>\n",
       "    <tr>\n",
       "      <th>4</th>\n",
       "      <td>Sudhakaran Wadakkancheri</td>\n",
       "      <td>worst product from MI. I am a hardcore fan of ...</td>\n",
       "    </tr>\n",
       "  </tbody>\n",
       "</table>\n",
       "</div>"
      ],
      "text/plain": [
       "              Customer name                                           Comments\n",
       "0         Rishikumar Thakur  Another Midrange killer Smartphone by Xiaomi\\n...\n",
       "1                   Raza ji                   All ok but vry small size mobile\n",
       "2             Vaibhav Patel                                         Quite good\n",
       "3           Amazon Customer  Redmi has always have been the the king of bud...\n",
       "4  Sudhakaran Wadakkancheri  worst product from MI. I am a hardcore fan of ..."
      ]
     },
     "execution_count": 18,
     "metadata": {},
     "output_type": "execute_result"
    }
   ],
   "source": [
    "df.head()\n"
   ]
  },
  {
   "cell_type": "code",
   "execution_count": 19,
   "id": "36a5c88b",
   "metadata": {},
   "outputs": [],
   "source": [
    "df['label'] = df['Comments'].apply(sentiment_detection)"
   ]
  },
  {
   "cell_type": "code",
   "execution_count": 20,
   "id": "c39b2787",
   "metadata": {},
   "outputs": [
    {
     "data": {
      "text/html": [
       "<div>\n",
       "<style scoped>\n",
       "    .dataframe tbody tr th:only-of-type {\n",
       "        vertical-align: middle;\n",
       "    }\n",
       "\n",
       "    .dataframe tbody tr th {\n",
       "        vertical-align: top;\n",
       "    }\n",
       "\n",
       "    .dataframe thead th {\n",
       "        text-align: right;\n",
       "    }\n",
       "</style>\n",
       "<table border=\"1\" class=\"dataframe\">\n",
       "  <thead>\n",
       "    <tr style=\"text-align: right;\">\n",
       "      <th></th>\n",
       "      <th>Customer name</th>\n",
       "      <th>Comments</th>\n",
       "      <th>label</th>\n",
       "    </tr>\n",
       "  </thead>\n",
       "  <tbody>\n",
       "    <tr>\n",
       "      <th>0</th>\n",
       "      <td>Rishikumar Thakur</td>\n",
       "      <td>Another Midrange killer Smartphone by Xiaomi\\n...</td>\n",
       "      <td>Positive</td>\n",
       "    </tr>\n",
       "    <tr>\n",
       "      <th>1</th>\n",
       "      <td>Raza ji</td>\n",
       "      <td>All ok but vry small size mobile</td>\n",
       "      <td>Positive</td>\n",
       "    </tr>\n",
       "    <tr>\n",
       "      <th>2</th>\n",
       "      <td>Vaibhav Patel</td>\n",
       "      <td>Quite good</td>\n",
       "      <td>Positive</td>\n",
       "    </tr>\n",
       "    <tr>\n",
       "      <th>3</th>\n",
       "      <td>Amazon Customer</td>\n",
       "      <td>Redmi has always have been the the king of bud...</td>\n",
       "      <td>Positive</td>\n",
       "    </tr>\n",
       "    <tr>\n",
       "      <th>4</th>\n",
       "      <td>Sudhakaran Wadakkancheri</td>\n",
       "      <td>worst product from MI. I am a hardcore fan of ...</td>\n",
       "      <td>Negative</td>\n",
       "    </tr>\n",
       "  </tbody>\n",
       "</table>\n",
       "</div>"
      ],
      "text/plain": [
       "              Customer name  \\\n",
       "0         Rishikumar Thakur   \n",
       "1                   Raza ji   \n",
       "2             Vaibhav Patel   \n",
       "3           Amazon Customer   \n",
       "4  Sudhakaran Wadakkancheri   \n",
       "\n",
       "                                            Comments     label  \n",
       "0  Another Midrange killer Smartphone by Xiaomi\\n...  Positive  \n",
       "1                   All ok but vry small size mobile  Positive  \n",
       "2                                         Quite good  Positive  \n",
       "3  Redmi has always have been the the king of bud...  Positive  \n",
       "4  worst product from MI. I am a hardcore fan of ...  Negative  "
      ]
     },
     "execution_count": 20,
     "metadata": {},
     "output_type": "execute_result"
    }
   ],
   "source": [
    "df.head()"
   ]
  },
  {
   "cell_type": "code",
   "execution_count": null,
   "id": "33d9015c",
   "metadata": {},
   "outputs": [],
   "source": []
  },
  {
   "cell_type": "code",
   "execution_count": null,
   "id": "07123b38",
   "metadata": {},
   "outputs": [],
   "source": []
  },
  {
   "cell_type": "code",
   "execution_count": null,
   "id": "77e4bff9",
   "metadata": {},
   "outputs": [],
   "source": []
  },
  {
   "cell_type": "code",
   "execution_count": null,
   "id": "5d206718",
   "metadata": {},
   "outputs": [],
   "source": []
  },
  {
   "cell_type": "code",
   "execution_count": null,
   "id": "63791997",
   "metadata": {},
   "outputs": [],
   "source": []
  },
  {
   "cell_type": "code",
   "execution_count": null,
   "id": "74b229ea",
   "metadata": {},
   "outputs": [],
   "source": []
  }
 ],
 "metadata": {
  "kernelspec": {
   "display_name": "Python 3 (ipykernel)",
   "language": "python",
   "name": "python3"
  },
  "language_info": {
   "codemirror_mode": {
    "name": "ipython",
    "version": 3
   },
   "file_extension": ".py",
   "mimetype": "text/x-python",
   "name": "python",
   "nbconvert_exporter": "python",
   "pygments_lexer": "ipython3",
   "version": "3.11.6"
  }
 },
 "nbformat": 4,
 "nbformat_minor": 5
}
