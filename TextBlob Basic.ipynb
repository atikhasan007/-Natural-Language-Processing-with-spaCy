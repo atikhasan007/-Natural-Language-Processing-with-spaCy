{
 "cells": [
  {
   "cell_type": "markdown",
   "id": "6b87f501",
   "metadata": {},
   "source": [
    "# Install textblob"
   ]
  },
  {
   "cell_type": "raw",
   "id": "11f7fc34",
   "metadata": {},
   "source": [
    "create a TextBolob\n",
    "Part-of-speech Tagging\n",
    "Nonu Phrase Extraction\n",
    "Sentiment Analysis\n",
    "Tokenization\n",
    "Words inflection and lemmatization\n",
    "WordNet integration\n",
    "WordLists\n",
    "spelling correction\n",
    "get word and noun Phrase Frequencies\n",
    "Parsing \n",
    "Textblobs Are Like python strings\n",
    "n-grames\n"
   ]
  },
  {
   "cell_type": "markdown",
   "id": "c75675aa",
   "metadata": {},
   "source": [
    "# Create a TextBlob"
   ]
  },
  {
   "cell_type": "code",
   "execution_count": 2,
   "id": "2fc2a7ed",
   "metadata": {},
   "outputs": [],
   "source": [
    "from textblob import TextBlob"
   ]
  },
  {
   "cell_type": "code",
   "execution_count": 3,
   "id": "e3d5f433",
   "metadata": {},
   "outputs": [
    {
     "data": {
      "text/plain": [
       "TextBlob(\"Python is a high-level , general-purpose programming language.\")"
      ]
     },
     "execution_count": 3,
     "metadata": {},
     "output_type": "execute_result"
    }
   ],
   "source": [
    "wiki = TextBlob(\"Python is a high-level , general-purpose programming language.\")\n",
    "wiki"
   ]
  },
  {
   "cell_type": "markdown",
   "id": "22d32580",
   "metadata": {},
   "source": [
    "# Parts of speech Taggings"
   ]
  },
  {
   "cell_type": "code",
   "execution_count": 4,
   "id": "7d06c766",
   "metadata": {},
   "outputs": [
    {
     "data": {
      "text/plain": [
       "[('Python', 'NNP'),\n",
       " ('is', 'VBZ'),\n",
       " ('a', 'DT'),\n",
       " ('high-level', 'JJ'),\n",
       " ('general-purpose', 'JJ'),\n",
       " ('programming', 'NN'),\n",
       " ('language', 'NN')]"
      ]
     },
     "execution_count": 4,
     "metadata": {},
     "output_type": "execute_result"
    }
   ],
   "source": [
    "wiki.tags"
   ]
  },
  {
   "cell_type": "markdown",
   "id": "82e08b37",
   "metadata": {},
   "source": [
    "# Noune Phrase Extraction"
   ]
  },
  {
   "cell_type": "code",
   "execution_count": 5,
   "id": "40d004ba",
   "metadata": {},
   "outputs": [
    {
     "data": {
      "text/plain": [
       "WordList(['python'])"
      ]
     },
     "execution_count": 5,
     "metadata": {},
     "output_type": "execute_result"
    }
   ],
   "source": [
    "wiki.noun_phrases"
   ]
  },
  {
   "cell_type": "markdown",
   "id": "0da8c461",
   "metadata": {},
   "source": [
    "# Sentiment Analysis"
   ]
  },
  {
   "cell_type": "code",
   "execution_count": 8,
   "id": "fed0387b",
   "metadata": {},
   "outputs": [
    {
     "name": "stdout",
     "output_type": "stream",
     "text": [
      "Positive\n"
     ]
    }
   ],
   "source": [
    "testimonial = TextBlob(\"Textblob is amazingl simple to use . What great fun!\")\n",
    "if testimonial.sentiment.polarity >=0.1:\n",
    "    print(\"Positive\")\n",
    "else:\n",
    "    print(\"Negative\")"
   ]
  },
  {
   "cell_type": "code",
   "execution_count": 9,
   "id": "8713f7a8",
   "metadata": {},
   "outputs": [
    {
     "name": "stdout",
     "output_type": "stream",
     "text": [
      "Negative\n"
     ]
    }
   ],
   "source": [
    "testimonial = TextBlob(\"I have to start learning complex concepts first.\")\n",
    "if testimonial.sentiment.polarity >=0.1:\n",
    "    print(\"Positive\")\n",
    "else:\n",
    "    print(\"Negative\")"
   ]
  },
  {
   "cell_type": "markdown",
   "id": "b5744b6e",
   "metadata": {},
   "source": [
    "# Tokenization"
   ]
  },
  {
   "cell_type": "markdown",
   "id": "8a16846f",
   "metadata": {},
   "source": [
    "# Word base"
   ]
  },
  {
   "cell_type": "code",
   "execution_count": 10,
   "id": "ea94cc48",
   "metadata": {},
   "outputs": [
    {
     "data": {
      "text/plain": [
       "WordList(['Beautiful', 'is', 'better', 'than', 'ugly', 'Explicit', 'is', 'better', 'than', 'implicit', 'Simple', 'is', 'better', 'than', 'complex'])"
      ]
     },
     "execution_count": 10,
     "metadata": {},
     "output_type": "execute_result"
    }
   ],
   "source": [
    "zen = TextBlob(\n",
    " \"Beautiful is better than ugly. \"\n",
    "    \"Explicit is better than implicit. \"\n",
    "    \"Simple is better than complex.\"\n",
    "\n",
    "\n",
    ")\n",
    "\n",
    "zen.words"
   ]
  },
  {
   "cell_type": "markdown",
   "id": "00964490",
   "metadata": {},
   "source": [
    "# Sentence base"
   ]
  },
  {
   "cell_type": "code",
   "execution_count": 12,
   "id": "580fc756",
   "metadata": {},
   "outputs": [
    {
     "data": {
      "text/plain": [
       "[Sentence(\"Beautiful is better than ugly.\"),\n",
       " Sentence(\"Explicit is better than implicit.\"),\n",
       " Sentence(\"Simple is better than complex.\")]"
      ]
     },
     "execution_count": 12,
     "metadata": {},
     "output_type": "execute_result"
    }
   ],
   "source": [
    "zen.sentences"
   ]
  },
  {
   "cell_type": "markdown",
   "id": "67476150",
   "metadata": {},
   "source": [
    "# Word inflection and lemmatization"
   ]
  },
  {
   "cell_type": "code",
   "execution_count": 13,
   "id": "203fa50f",
   "metadata": {},
   "outputs": [
    {
     "data": {
      "text/plain": [
       "WordList(['Use', '4', 'spaces', 'per', 'indentation', 'level'])"
      ]
     },
     "execution_count": 13,
     "metadata": {},
     "output_type": "execute_result"
    }
   ],
   "source": [
    "Sentence = TextBlob(\"Use 4 spaces per indentation level.\")\n",
    "Sentence.words"
   ]
  },
  {
   "cell_type": "code",
   "execution_count": 14,
   "id": "89ac4608",
   "metadata": {},
   "outputs": [
    {
     "data": {
      "text/plain": [
       "'spaces'"
      ]
     },
     "execution_count": 14,
     "metadata": {},
     "output_type": "execute_result"
    }
   ],
   "source": [
    "Sentence.words[2]"
   ]
  },
  {
   "cell_type": "code",
   "execution_count": 15,
   "id": "babbf6a6",
   "metadata": {},
   "outputs": [
    {
     "data": {
      "text/plain": [
       "'space'"
      ]
     },
     "execution_count": 15,
     "metadata": {},
     "output_type": "execute_result"
    }
   ],
   "source": [
    "Sentence.words[2].singularize()"
   ]
  },
  {
   "cell_type": "code",
   "execution_count": 17,
   "id": "4c7b0d76",
   "metadata": {},
   "outputs": [
    {
     "data": {
      "text/plain": [
       "'levels'"
      ]
     },
     "execution_count": 17,
     "metadata": {},
     "output_type": "execute_result"
    }
   ],
   "source": [
    "Sentence.words[-1].pluralize()"
   ]
  },
  {
   "cell_type": "code",
   "execution_count": 20,
   "id": "3125db4b",
   "metadata": {},
   "outputs": [
    {
     "data": {
      "text/plain": [
       "'place'"
      ]
     },
     "execution_count": 20,
     "metadata": {},
     "output_type": "execute_result"
    }
   ],
   "source": [
    "from textblob import Word\n",
    "w = Word(\"places\")\n",
    "w.lemmatize('n')"
   ]
  },
  {
   "cell_type": "code",
   "execution_count": 23,
   "id": "bda5b1d8",
   "metadata": {},
   "outputs": [
    {
     "data": {
      "text/plain": [
       "'go'"
      ]
     },
     "execution_count": 23,
     "metadata": {},
     "output_type": "execute_result"
    }
   ],
   "source": [
    "w = Word(\"went\")\n",
    "w.lemmatize(\"v\") #pass in WordNet part of speech (verb)"
   ]
  },
  {
   "cell_type": "code",
   "execution_count": 24,
   "id": "1f54844a",
   "metadata": {},
   "outputs": [
    {
     "data": {
      "text/plain": [
       "'love'"
      ]
     },
     "execution_count": 24,
     "metadata": {},
     "output_type": "execute_result"
    }
   ],
   "source": [
    "w = Word(\"loving\")\n",
    "w.lemmatize(\"v\") #pass in wordnet part of speech (verb)\n"
   ]
  },
  {
   "cell_type": "markdown",
   "id": "da49a033",
   "metadata": {},
   "source": [
    "# Wordnet integration"
   ]
  },
  {
   "cell_type": "code",
   "execution_count": 25,
   "id": "734fd889",
   "metadata": {},
   "outputs": [
    {
     "data": {
      "text/plain": [
       "[Synset('topographic_point.n.01'),\n",
       " Synset('place.n.02'),\n",
       " Synset('place.n.03'),\n",
       " Synset('place.n.04'),\n",
       " Synset('stead.n.01'),\n",
       " Synset('place.n.06'),\n",
       " Synset('home.n.01'),\n",
       " Synset('position.n.06'),\n",
       " Synset('position.n.01'),\n",
       " Synset('place.n.10'),\n",
       " Synset('seat.n.01'),\n",
       " Synset('place.n.12'),\n",
       " Synset('place.n.13'),\n",
       " Synset('plaza.n.01'),\n",
       " Synset('place.n.15'),\n",
       " Synset('space.n.07'),\n",
       " Synset('put.v.01'),\n",
       " Synset('place.v.02'),\n",
       " Synset('rate.v.01'),\n",
       " Synset('locate.v.03'),\n",
       " Synset('place.v.05'),\n",
       " Synset('place.v.06'),\n",
       " Synset('target.v.01'),\n",
       " Synset('identify.v.01'),\n",
       " Synset('place.v.09'),\n",
       " Synset('set.v.09'),\n",
       " Synset('place.v.11'),\n",
       " Synset('place.v.12'),\n",
       " Synset('invest.v.01'),\n",
       " Synset('station.v.01'),\n",
       " Synset('place.v.15'),\n",
       " Synset('place.v.16')]"
      ]
     },
     "execution_count": 25,
     "metadata": {},
     "output_type": "execute_result"
    }
   ],
   "source": [
    "from textblob import Word\n",
    "from textblob.wordnet import VERB\n",
    "word = Word(\"places\")\n",
    "word.synsets"
   ]
  },
  {
   "cell_type": "code",
   "execution_count": 26,
   "id": "76512771",
   "metadata": {},
   "outputs": [
    {
     "data": {
      "text/plain": [
       "[Synset('chop.v.05'),\n",
       " Synset('hack.v.02'),\n",
       " Synset('hack.v.03'),\n",
       " Synset('hack.v.04'),\n",
       " Synset('hack.v.05'),\n",
       " Synset('hack.v.06'),\n",
       " Synset('hack.v.07'),\n",
       " Synset('hack.v.08')]"
      ]
     },
     "execution_count": 26,
     "metadata": {},
     "output_type": "execute_result"
    }
   ],
   "source": [
    "Word(\"hack\").get_synsets(pos=VERB)"
   ]
  },
  {
   "cell_type": "code",
   "execution_count": 29,
   "id": "ec846215",
   "metadata": {},
   "outputs": [
    {
     "data": {
      "text/plain": [
       "['a point located with respect to surface features of some region',\n",
       " 'any area set aside for a particular purpose',\n",
       " 'an abstract mental location',\n",
       " 'a general vicinity',\n",
       " 'the post or function properly or customarily occupied or served by another',\n",
       " 'a particular situation',\n",
       " 'where you live at a particular time',\n",
       " 'a job in an organization',\n",
       " 'the particular portion of space occupied by something',\n",
       " 'proper or designated social situation',\n",
       " 'a space reserved for sitting (as in a theater or on a train or airplane)',\n",
       " 'the passage that is being read',\n",
       " 'proper or appropriate position or location',\n",
       " 'a public square with room for pedestrians',\n",
       " 'an item on a list or in a sequence',\n",
       " 'a blank area',\n",
       " 'put into a certain place or abstract location',\n",
       " 'place somebody in a particular situation or location',\n",
       " 'assign a rank or rating to',\n",
       " 'assign a location to',\n",
       " 'to arrange for',\n",
       " 'take a place in a competition; often followed by an ordinal',\n",
       " 'intend (something) to move towards a certain goal',\n",
       " 'recognize as being; establish the identity of someone or something',\n",
       " 'assign to (a job or a home)',\n",
       " 'locate',\n",
       " 'estimate',\n",
       " 'identify the location or place of',\n",
       " 'make an investment',\n",
       " 'assign to a station',\n",
       " 'finish second or better in a horse or dog race',\n",
       " 'sing a note with the correct pitch']"
      ]
     },
     "execution_count": 29,
     "metadata": {},
     "output_type": "execute_result"
    }
   ],
   "source": [
    "Word(\"Place\").definitions"
   ]
  },
  {
   "cell_type": "markdown",
   "id": "260ebbef",
   "metadata": {},
   "source": [
    "# Spelling Correction and Checking"
   ]
  },
  {
   "cell_type": "code",
   "execution_count": 31,
   "id": "8849a427",
   "metadata": {},
   "outputs": [
    {
     "data": {
      "text/plain": [
       "TextBlob(\"I have good spelling!\")"
      ]
     },
     "execution_count": 31,
     "metadata": {},
     "output_type": "execute_result"
    }
   ],
   "source": [
    "b = TextBlob(\"I havv goood speling!\")\n",
    "b.correct()"
   ]
  },
  {
   "cell_type": "code",
   "execution_count": 32,
   "id": "c6550bc9",
   "metadata": {},
   "outputs": [
    {
     "data": {
      "text/plain": [
       "[('lovely', 0.44776119402985076),\n",
       " ('lover', 0.3880597014925373),\n",
       " ('lovers', 0.13432835820895522),\n",
       " ('livery', 0.029850746268656716)]"
      ]
     },
     "execution_count": 32,
     "metadata": {},
     "output_type": "execute_result"
    }
   ],
   "source": [
    "w = Word(\"lovery\")\n",
    "w.spellcheck()"
   ]
  },
  {
   "cell_type": "code",
   "execution_count": 33,
   "id": "1c77ae59",
   "metadata": {},
   "outputs": [
    {
     "data": {
      "text/plain": [
       "[('nice', 0.9636363636363636),\n",
       " ('nina', 0.01818181818181818),\n",
       " ('nick', 0.01818181818181818)]"
      ]
     },
     "execution_count": 33,
     "metadata": {},
     "output_type": "execute_result"
    }
   ],
   "source": [
    "w = Word(\"nica\")\n",
    "w.spellcheck()"
   ]
  },
  {
   "cell_type": "code",
   "execution_count": 34,
   "id": "002c4733",
   "metadata": {},
   "outputs": [
    {
     "name": "stdout",
     "output_type": "stream",
     "text": [
      "Add/VB/B-VP/O now/RB/B-ADVP/O for/IN/B-PP/B-PNP something/NN/B-NP/I-PNP completely/RB/I-NP/I-PNP differnet/NN/I-NP/I-PNP ././O/O\n"
     ]
    }
   ],
   "source": [
    "b = TextBlob(\"Add now for something completely differnet.\")\n",
    "print(b.parse())"
   ]
  },
  {
   "cell_type": "markdown",
   "id": "3fa0bc6b",
   "metadata": {},
   "source": [
    "# n-gram (gram, bi-gram, tri-gram)"
   ]
  },
  {
   "cell_type": "code",
   "execution_count": 39,
   "id": "363edca7",
   "metadata": {},
   "outputs": [
    {
     "data": {
      "text/plain": [
       "[WordList(['Now', 'is', 'better']),\n",
       " WordList(['is', 'better', 'than']),\n",
       " WordList(['better', 'than', 'never'])]"
      ]
     },
     "execution_count": 39,
     "metadata": {},
     "output_type": "execute_result"
    }
   ],
   "source": [
    "blob = TextBlob(\"Now is better than never.\")\n",
    "blob.ngrams(n=3)"
   ]
  },
  {
   "cell_type": "code",
   "execution_count": 40,
   "id": "50195472",
   "metadata": {},
   "outputs": [
    {
     "data": {
      "text/plain": [
       "[WordList(['Now']),\n",
       " WordList(['is']),\n",
       " WordList(['better']),\n",
       " WordList(['than']),\n",
       " WordList(['never'])]"
      ]
     },
     "execution_count": 40,
     "metadata": {},
     "output_type": "execute_result"
    }
   ],
   "source": [
    "blob.ngrams(n=1)"
   ]
  },
  {
   "cell_type": "code",
   "execution_count": 41,
   "id": "2896ce61",
   "metadata": {},
   "outputs": [
    {
     "data": {
      "text/plain": [
       "[WordList(['Now', 'is']),\n",
       " WordList(['is', 'better']),\n",
       " WordList(['better', 'than']),\n",
       " WordList(['than', 'never'])]"
      ]
     },
     "execution_count": 41,
     "metadata": {},
     "output_type": "execute_result"
    }
   ],
   "source": [
    "blob.ngrams(n=2)"
   ]
  }
 ],
 "metadata": {
  "kernelspec": {
   "display_name": "Python 3 (ipykernel)",
   "language": "python",
   "name": "python3"
  },
  "language_info": {
   "codemirror_mode": {
    "name": "ipython",
    "version": 3
   },
   "file_extension": ".py",
   "mimetype": "text/x-python",
   "name": "python",
   "nbconvert_exporter": "python",
   "pygments_lexer": "ipython3",
   "version": "3.11.6"
  }
 },
 "nbformat": 4,
 "nbformat_minor": 5
}
