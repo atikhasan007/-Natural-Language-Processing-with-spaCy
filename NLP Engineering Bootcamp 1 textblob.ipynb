{
 "cells": [
  {
   "cell_type": "markdown",
   "id": "32c0d68f",
   "metadata": {},
   "source": [
    "# Basic"
   ]
  },
  {
   "cell_type": "raw",
   "id": "0e861e4a",
   "metadata": {},
   "source": [
    "Create a TextBlob\n",
    "part-of-speech Tagging\n",
    "Noun Phrase Extraction\n",
    "Sentiment Analysis\n",
    "Tokenization\n",
    "Words inflection and Lemmatization\n",
    "WordNet integration\n",
    "WordLists\n",
    "Spelling Correction\n",
    "Get Word and Noun Phrase Frequencies\n",
    "Parsing\n",
    "TextBlobs Are like Python Strings\n",
    "n-grams"
   ]
  },
  {
   "cell_type": "markdown",
   "id": "43a9c03a",
   "metadata": {},
   "source": [
    "# End to End Projects"
   ]
  },
  {
   "cell_type": "raw",
   "id": "22e545b0",
   "metadata": {},
   "source": [
    "# Sentiment Analysis on Customer Reviews\n",
    "language Translation Tool\n",
    "Spell Checker for user input\n",
    "keyword Extraction from Text\n",
    "Text Summarization by Sentence polarity\n",
    "formality checker for text\n",
    "Subjectivity Analysis of statemnets\n",
    "Sentence Tokenizer for Paragraphs\n",
    "Text Similarity Checker \n",
    "Text Complexity Scorer\n",
    "Parts of Speech (POS) Tagging\n",
    "Synonym Replacement Tool\n",
    "Custom Word Frequency Counter\n",
    "Named Entity Recognition (NER) using Custom Keywords\n",
    "Politeness Detector for customer support\n"
   ]
  },
  {
   "cell_type": "markdown",
   "id": "dee9b164",
   "metadata": {},
   "source": [
    "# create a TextBlob"
   ]
  },
  {
   "cell_type": "code",
   "execution_count": 10,
   "id": "280c2b99",
   "metadata": {},
   "outputs": [
    {
     "name": "stdout",
     "output_type": "stream",
     "text": [
      "Python is a high-level, general-purpose programming language.\n"
     ]
    }
   ],
   "source": [
    "from textblob import TextBlob\n",
    "\n",
    "wiki = TextBlob(\"Python is a high-level, general-purpose programming language.\")\n",
    "print(wiki)\n"
   ]
  },
  {
   "cell_type": "markdown",
   "id": "de1eb8de",
   "metadata": {},
   "source": [
    "# Parts of Speech Taggings"
   ]
  },
  {
   "cell_type": "raw",
   "id": "15fab168",
   "metadata": {},
   "source": [
    "Each POS tag represents the grammatical role of the word in the sentence. here the full form of each tag from your list\n",
    "NNP; Proper Noun, singluer nonue\n",
    "VBZ: verb, 3rd person singular present (eg: is)\n",
    "DT; determiner(eg.\"a\")\n",
    "jj; adjective\n",
    "nn:none, singular or mass"
   ]
  },
  {
   "cell_type": "markdown",
   "id": "7c05cc60",
   "metadata": {},
   "source": [
    "# Noun phrase extraction "
   ]
  },
  {
   "cell_type": "code",
   "execution_count": 8,
   "id": "bc70e5d7",
   "metadata": {},
   "outputs": [
    {
     "name": "stderr",
     "output_type": "stream",
     "text": [
      "[nltk_data] Downloading package punkt to /home/catpc/nltk_data...\n",
      "[nltk_data]   Package punkt is already up-to-date!\n",
      "[nltk_data] Downloading package averaged_perceptron_tagger to\n",
      "[nltk_data]     /home/catpc/nltk_data...\n",
      "[nltk_data]   Package averaged_perceptron_tagger is already up-to-\n",
      "[nltk_data]       date!\n",
      "[nltk_data] Downloading package brown to /home/catpc/nltk_data...\n",
      "[nltk_data]   Package brown is already up-to-date!\n",
      "[nltk_data] Downloading package wordnet to /home/catpc/nltk_data...\n",
      "[nltk_data]   Package wordnet is already up-to-date!\n"
     ]
    },
    {
     "data": {
      "text/plain": [
       "True"
      ]
     },
     "execution_count": 8,
     "metadata": {},
     "output_type": "execute_result"
    }
   ],
   "source": [
    "import nltk\n",
    "nltk.download('punkt')\n",
    "nltk.download('averaged_perceptron_tagger')\n",
    "nltk.download('brown')\n",
    "nltk.download('wordnet')\n",
    "\n"
   ]
  },
  {
   "cell_type": "code",
   "execution_count": 14,
   "id": "01cdb853",
   "metadata": {},
   "outputs": [
    {
     "name": "stderr",
     "output_type": "stream",
     "text": [
      "[nltk_data] Downloading package punkt to /home/catpc/nltk_data...\n",
      "[nltk_data]   Package punkt is already up-to-date!\n",
      "[nltk_data] Downloading package averaged_perceptron_tagger to\n",
      "[nltk_data]     /home/catpc/nltk_data...\n",
      "[nltk_data]   Package averaged_perceptron_tagger is already up-to-\n",
      "[nltk_data]       date!\n",
      "[nltk_data] Downloading package brown to /home/catpc/nltk_data...\n",
      "[nltk_data]   Package brown is already up-to-date!\n",
      "[nltk_data] Downloading package wordnet to /home/catpc/nltk_data...\n",
      "[nltk_data]   Package wordnet is already up-to-date!\n"
     ]
    },
    {
     "data": {
      "text/plain": [
       "True"
      ]
     },
     "execution_count": 14,
     "metadata": {},
     "output_type": "execute_result"
    }
   ],
   "source": [
    "import nltk\n",
    "nltk.download('punkt')\n",
    "nltk.download('averaged_perceptron_tagger')\n",
    "nltk.download('brown')\n",
    "nltk.download('wordnet')\n"
   ]
  },
  {
   "cell_type": "code",
   "execution_count": 16,
   "id": "eff9a5c8",
   "metadata": {},
   "outputs": [
    {
     "name": "stdout",
     "output_type": "stream",
     "text": [
      "Defaulting to user installation because normal site-packages is not writeable\n",
      "Requirement already satisfied: textblob in ./.local/lib/python3.11/site-packages (0.19.0)\n",
      "Requirement already satisfied: nltk>=3.9 in ./.local/lib/python3.11/site-packages (from textblob) (3.9.1)\n",
      "Requirement already satisfied: click in /usr/lib/python3/dist-packages (from nltk>=3.9->textblob) (8.1.6)\n",
      "Requirement already satisfied: joblib in ./.local/lib/python3.11/site-packages (from nltk>=3.9->textblob) (1.5.0)\n",
      "Requirement already satisfied: regex>=2021.8.3 in ./.local/lib/python3.11/site-packages (from nltk>=3.9->textblob) (2024.11.6)\n",
      "Requirement already satisfied: tqdm in ./.local/lib/python3.11/site-packages (from nltk>=3.9->textblob) (4.67.1)\n",
      "/bin/bash: line 1: python: command not found\n",
      "Note: you may need to restart the kernel to use updated packages.\n"
     ]
    }
   ],
   "source": [
    "pip install textblob --break-system-packages && python -m textblob.download_corpora\n"
   ]
  },
  {
   "cell_type": "code",
   "execution_count": 21,
   "id": "7fedc538",
   "metadata": {},
   "outputs": [
    {
     "name": "stdout",
     "output_type": "stream",
     "text": [
      "[nltk_data] Downloading package brown to /home/catpc/nltk_data...\n",
      "[nltk_data]   Package brown is already up-to-date!\n",
      "[nltk_data] Downloading package punkt_tab to /home/catpc/nltk_data...\n",
      "[nltk_data]   Package punkt_tab is already up-to-date!\n",
      "[nltk_data] Downloading package wordnet to /home/catpc/nltk_data...\n",
      "[nltk_data]   Package wordnet is already up-to-date!\n",
      "[nltk_data] Downloading package averaged_perceptron_tagger_eng to\n",
      "[nltk_data]     /home/catpc/nltk_data...\n",
      "[nltk_data]   Unzipping taggers/averaged_perceptron_tagger_eng.zip.\n",
      "[nltk_data] Downloading package conll2000 to /home/catpc/nltk_data...\n",
      "[nltk_data]   Unzipping corpora/conll2000.zip.\n",
      "[nltk_data] Downloading package movie_reviews to\n",
      "[nltk_data]     /home/catpc/nltk_data...\n",
      "[nltk_data]   Unzipping corpora/movie_reviews.zip.\n",
      "Finished.\n"
     ]
    }
   ],
   "source": [
    "!python3 -m textblob.download_corpora\n"
   ]
  },
  {
   "cell_type": "code",
   "execution_count": 22,
   "id": "345eed5f",
   "metadata": {},
   "outputs": [
    {
     "data": {
      "text/plain": [
       "[('Python', 'NNP'),\n",
       " ('is', 'VBZ'),\n",
       " ('a', 'DT'),\n",
       " ('high-level', 'JJ'),\n",
       " ('general-purpose', 'JJ'),\n",
       " ('programming', 'NN'),\n",
       " ('language', 'NN')]"
      ]
     },
     "execution_count": 22,
     "metadata": {},
     "output_type": "execute_result"
    }
   ],
   "source": [
    "wiki.tags\n"
   ]
  },
  {
   "cell_type": "markdown",
   "id": "b1249ee1",
   "metadata": {},
   "source": [
    "# Nonun Phrase Extraction"
   ]
  },
  {
   "cell_type": "raw",
   "id": "13a9fd3d",
   "metadata": {},
   "source": [
    "similarly , noun phrases are accessed through the noun_phrases property"
   ]
  },
  {
   "cell_type": "code",
   "execution_count": 23,
   "id": "26ecafa9",
   "metadata": {},
   "outputs": [
    {
     "data": {
      "text/plain": [
       "WordList(['python'])"
      ]
     },
     "execution_count": 23,
     "metadata": {},
     "output_type": "execute_result"
    }
   ],
   "source": [
    "wiki.noun_phrases"
   ]
  },
  {
   "cell_type": "markdown",
   "id": "a97bce48",
   "metadata": {},
   "source": [
    "# Sentiment Analysis"
   ]
  },
  {
   "cell_type": "code",
   "execution_count": 27,
   "id": "1b3aa434",
   "metadata": {},
   "outputs": [
    {
     "name": "stdout",
     "output_type": "stream",
     "text": [
      "Positive\n"
     ]
    }
   ],
   "source": [
    "testimonial = TextBlob(\"Textblob is amazingly simple to use. What great fun!\")\n",
    "\n",
    "if testimonial.sentiment[0] >= 0.1:\n",
    "    print(\"Positive\")\n",
    "else:\n",
    "    print(\"negative\")"
   ]
  },
  {
   "cell_type": "code",
   "execution_count": 29,
   "id": "d0db4b00",
   "metadata": {},
   "outputs": [
    {
     "name": "stdout",
     "output_type": "stream",
     "text": [
      "negative\n"
     ]
    }
   ],
   "source": [
    "testimonial = TextBlob(\"I hate to start learning complex concepts first\")\n",
    "\n",
    "if testimonial.sentiment[0] >= 0.1:\n",
    "    print(\"Positive\")\n",
    "else:\n",
    "    print(\"negative\")"
   ]
  },
  {
   "cell_type": "code",
   "execution_count": 30,
   "id": "1ae99423",
   "metadata": {},
   "outputs": [
    {
     "name": "stdout",
     "output_type": "stream",
     "text": [
      "negative\n"
     ]
    }
   ],
   "source": [
    "testimonial = TextBlob(\"I hate to start learning complex concepts first\")\n",
    "\n",
    "if testimonial.sentiment.polarity >= 0.1:\n",
    "    print(\"Positive\")\n",
    "else:\n",
    "    print(\"negative\") "
   ]
  },
  {
   "cell_type": "markdown",
   "id": "0c23e662",
   "metadata": {},
   "source": [
    "# Tokenization"
   ]
  },
  {
   "cell_type": "raw",
   "id": "5400bdc7",
   "metadata": {},
   "source": [
    "# word Base\n",
    "Sentence Base"
   ]
  },
  {
   "cell_type": "code",
   "execution_count": 33,
   "id": "033cfca1",
   "metadata": {},
   "outputs": [
    {
     "data": {
      "text/plain": [
       "WordList(['Beautiful', 'is', 'better', 'than', 'ugly.Explicity', 'is', 'better', 'than', 'implicity.Simple', 'is', 'better', 'than', 'complex'])"
      ]
     },
     "execution_count": 33,
     "metadata": {},
     "output_type": "execute_result"
    }
   ],
   "source": [
    "zen = TextBlob(\n",
    "\"Beautiful is better than ugly.\"\n",
    "\"Explicity is better than implicity.\"\n",
    "\"Simple is better than complex.\"\n",
    ")\n",
    "zen.words"
   ]
  },
  {
   "cell_type": "code",
   "execution_count": 34,
   "id": "89b22933",
   "metadata": {},
   "outputs": [
    {
     "data": {
      "text/plain": [
       "[Sentence(\"Beautiful is better than ugly.Explicity is better than implicity.Simple is better than complex.\")]"
      ]
     },
     "execution_count": 34,
     "metadata": {},
     "output_type": "execute_result"
    }
   ],
   "source": [
    "zen.sentences"
   ]
  },
  {
   "cell_type": "markdown",
   "id": "827de4a4",
   "metadata": {},
   "source": [
    "# Word inflection and lemmatizatin"
   ]
  },
  {
   "cell_type": "code",
   "execution_count": 35,
   "id": "5f64452c",
   "metadata": {},
   "outputs": [
    {
     "data": {
      "text/plain": [
       "WordList(['Use', '4', 'spaces', 'per', 'indentation', 'level'])"
      ]
     },
     "execution_count": 35,
     "metadata": {},
     "output_type": "execute_result"
    }
   ],
   "source": [
    "sentence = TextBlob(\"Use 4 spaces per indentation level.\")\n",
    "sentence.words"
   ]
  },
  {
   "cell_type": "code",
   "execution_count": 37,
   "id": "5151f82f",
   "metadata": {},
   "outputs": [
    {
     "data": {
      "text/plain": [
       "'space'"
      ]
     },
     "execution_count": 37,
     "metadata": {},
     "output_type": "execute_result"
    }
   ],
   "source": [
    "sentence.words[2].singularize()"
   ]
  },
  {
   "cell_type": "code",
   "execution_count": 40,
   "id": "c7508352",
   "metadata": {},
   "outputs": [
    {
     "data": {
      "text/plain": [
       "'levels'"
      ]
     },
     "execution_count": 40,
     "metadata": {},
     "output_type": "execute_result"
    }
   ],
   "source": [
    "sentence.words[-1].pluralize()"
   ]
  },
  {
   "cell_type": "code",
   "execution_count": 47,
   "id": "92c357b7",
   "metadata": {},
   "outputs": [
    {
     "data": {
      "text/plain": [
       "'place'"
      ]
     },
     "execution_count": 47,
     "metadata": {},
     "output_type": "execute_result"
    }
   ],
   "source": [
    "from textblob import Word\n",
    "w = Word(\"places\")\n",
    "w.lemmatize('n')\n",
    "\n"
   ]
  },
  {
   "cell_type": "code",
   "execution_count": 48,
   "id": "ab7100e4",
   "metadata": {},
   "outputs": [
    {
     "data": {
      "text/plain": [
       "'go'"
      ]
     },
     "execution_count": 48,
     "metadata": {},
     "output_type": "execute_result"
    }
   ],
   "source": [
    "w = Word(\"went\")\n",
    "w.lemmatize(\"v\") #pass in WordNet part of speech (verb)\n"
   ]
  },
  {
   "cell_type": "code",
   "execution_count": 51,
   "id": "94597404",
   "metadata": {},
   "outputs": [
    {
     "data": {
      "text/plain": [
       "'love'"
      ]
     },
     "execution_count": 51,
     "metadata": {},
     "output_type": "execute_result"
    }
   ],
   "source": [
    "w = Word(\"loving\")\n",
    "w.lemmatize(\"v\") #pass in WordNet part of speech (verb)\n"
   ]
  },
  {
   "cell_type": "markdown",
   "id": "345305c3",
   "metadata": {},
   "source": [
    "# Wordnet integration"
   ]
  },
  {
   "cell_type": "code",
   "execution_count": 52,
   "id": "bc9ca752",
   "metadata": {},
   "outputs": [
    {
     "data": {
      "text/plain": [
       "[Synset('topographic_point.n.01'),\n",
       " Synset('place.n.02'),\n",
       " Synset('place.n.03'),\n",
       " Synset('place.n.04'),\n",
       " Synset('stead.n.01'),\n",
       " Synset('place.n.06'),\n",
       " Synset('home.n.01'),\n",
       " Synset('position.n.06'),\n",
       " Synset('position.n.01'),\n",
       " Synset('place.n.10'),\n",
       " Synset('seat.n.01'),\n",
       " Synset('place.n.12'),\n",
       " Synset('place.n.13'),\n",
       " Synset('plaza.n.01'),\n",
       " Synset('place.n.15'),\n",
       " Synset('space.n.07'),\n",
       " Synset('put.v.01'),\n",
       " Synset('place.v.02'),\n",
       " Synset('rate.v.01'),\n",
       " Synset('locate.v.03'),\n",
       " Synset('place.v.05'),\n",
       " Synset('place.v.06'),\n",
       " Synset('target.v.01'),\n",
       " Synset('identify.v.01'),\n",
       " Synset('place.v.09'),\n",
       " Synset('set.v.09'),\n",
       " Synset('place.v.11'),\n",
       " Synset('place.v.12'),\n",
       " Synset('invest.v.01'),\n",
       " Synset('station.v.01'),\n",
       " Synset('place.v.15'),\n",
       " Synset('place.v.16')]"
      ]
     },
     "execution_count": 52,
     "metadata": {},
     "output_type": "execute_result"
    }
   ],
   "source": [
    "from textblob import Word\n",
    "from textblob.wordnet import VERB\n",
    "\n",
    "word = Word(\"places\")\n",
    "word.synsets"
   ]
  },
  {
   "cell_type": "code",
   "execution_count": 54,
   "id": "3c5c0765",
   "metadata": {},
   "outputs": [
    {
     "data": {
      "text/plain": [
       "[Synset('chop.v.05'),\n",
       " Synset('hack.v.02'),\n",
       " Synset('hack.v.03'),\n",
       " Synset('hack.v.04'),\n",
       " Synset('hack.v.05'),\n",
       " Synset('hack.v.06'),\n",
       " Synset('hack.v.07'),\n",
       " Synset('hack.v.08')]"
      ]
     },
     "execution_count": 54,
     "metadata": {},
     "output_type": "execute_result"
    }
   ],
   "source": [
    "Word(\"hack\").get_synsets(pos=VERB)"
   ]
  },
  {
   "cell_type": "code",
   "execution_count": 58,
   "id": "0fed2227",
   "metadata": {},
   "outputs": [
    {
     "data": {
      "text/plain": [
       "['a point located with respect to surface features of some region',\n",
       " 'any area set aside for a particular purpose',\n",
       " 'an abstract mental location',\n",
       " 'a general vicinity',\n",
       " 'the post or function properly or customarily occupied or served by another',\n",
       " 'a particular situation',\n",
       " 'where you live at a particular time',\n",
       " 'a job in an organization',\n",
       " 'the particular portion of space occupied by something',\n",
       " 'proper or designated social situation',\n",
       " 'a space reserved for sitting (as in a theater or on a train or airplane)',\n",
       " 'the passage that is being read',\n",
       " 'proper or appropriate position or location',\n",
       " 'a public square with room for pedestrians',\n",
       " 'an item on a list or in a sequence',\n",
       " 'a blank area',\n",
       " 'put into a certain place or abstract location',\n",
       " 'place somebody in a particular situation or location',\n",
       " 'assign a rank or rating to',\n",
       " 'assign a location to',\n",
       " 'to arrange for',\n",
       " 'take a place in a competition; often followed by an ordinal',\n",
       " 'intend (something) to move towards a certain goal',\n",
       " 'recognize as being; establish the identity of someone or something',\n",
       " 'assign to (a job or a home)',\n",
       " 'locate',\n",
       " 'estimate',\n",
       " 'identify the location or place of',\n",
       " 'make an investment',\n",
       " 'assign to a station',\n",
       " 'finish second or better in a horse or dog race',\n",
       " 'sing a note with the correct pitch']"
      ]
     },
     "execution_count": 58,
     "metadata": {},
     "output_type": "execute_result"
    }
   ],
   "source": [
    "Word(\"place\").definitions"
   ]
  },
  {
   "cell_type": "markdown",
   "id": "d72178fd",
   "metadata": {},
   "source": [
    "# spelling Correction and checking "
   ]
  },
  {
   "cell_type": "code",
   "execution_count": 59,
   "id": "70f7dce8",
   "metadata": {},
   "outputs": [
    {
     "name": "stdout",
     "output_type": "stream",
     "text": [
      "I have good spelling!\n"
     ]
    }
   ],
   "source": [
    "b = TextBlob(\"I have goood speling!\")\n",
    "print(b.correct())"
   ]
  },
  {
   "cell_type": "code",
   "execution_count": 60,
   "id": "730cefda",
   "metadata": {},
   "outputs": [
    {
     "data": {
      "text/plain": [
       "[('lovely', 0.44776119402985076),\n",
       " ('lover', 0.3880597014925373),\n",
       " ('lovers', 0.13432835820895522),\n",
       " ('livery', 0.029850746268656716)]"
      ]
     },
     "execution_count": 60,
     "metadata": {},
     "output_type": "execute_result"
    }
   ],
   "source": [
    "w = Word(\"lovery\")\n",
    "w.spellcheck()"
   ]
  },
  {
   "cell_type": "code",
   "execution_count": 61,
   "id": "db230b2d",
   "metadata": {},
   "outputs": [
    {
     "data": {
      "text/plain": [
       "[('nice', 0.9636363636363636),\n",
       " ('nina', 0.01818181818181818),\n",
       " ('nick', 0.01818181818181818)]"
      ]
     },
     "execution_count": 61,
     "metadata": {},
     "output_type": "execute_result"
    }
   ],
   "source": [
    "w = Word(\"nica\")\n",
    "w.spellcheck()"
   ]
  },
  {
   "cell_type": "markdown",
   "id": "50b18daa",
   "metadata": {},
   "source": [
    "# Parsing"
   ]
  },
  {
   "cell_type": "code",
   "execution_count": 63,
   "id": "48ec096e",
   "metadata": {},
   "outputs": [
    {
     "name": "stdout",
     "output_type": "stream",
     "text": [
      "And/CC/O/O now/RB/B-ADVP/O for/IN/B-PP/B-PNP something/NN/B-NP/I-PNP completely/RB/B-ADJP/O different/JJ/I-ADJP/O ././O/O\n"
     ]
    }
   ],
   "source": [
    "b = TextBlob(\"And now for something completely different.\")\n",
    "print(b.parse())"
   ]
  },
  {
   "cell_type": "raw",
   "id": "701e010f",
   "metadata": {},
   "source": [
    "Tag\tMeaning\n",
    "CC\tCoordinating conjunction (And)\n",
    "RB\tAdverb (now, completely)\n",
    "IN\tPreposition (for)\n",
    "NN\tNoun (something)\n",
    "JJ\tAdjective (different)\n",
    ".\tPunctuation (.)"
   ]
  },
  {
   "cell_type": "markdown",
   "id": "ceaa4656",
   "metadata": {},
   "source": [
    "# n-gram (gram, bi-gram,tri-gram)"
   ]
  },
  {
   "cell_type": "code",
   "execution_count": 64,
   "id": "906727d2",
   "metadata": {},
   "outputs": [
    {
     "data": {
      "text/plain": [
       "[WordList(['Now', 'is', 'better']),\n",
       " WordList(['is', 'better', 'than']),\n",
       " WordList(['better', 'than', 'never'])]"
      ]
     },
     "execution_count": 64,
     "metadata": {},
     "output_type": "execute_result"
    }
   ],
   "source": [
    "blob = TextBlob(\"Now is better than never.\")\n",
    "blob.ngrams(n=3)"
   ]
  },
  {
   "cell_type": "code",
   "execution_count": null,
   "id": "dae5493c",
   "metadata": {},
   "outputs": [],
   "source": [
    "blob.ngram(n=1)"
   ]
  },
  {
   "cell_type": "code",
   "execution_count": null,
   "id": "d532c214",
   "metadata": {},
   "outputs": [],
   "source": []
  },
  {
   "cell_type": "code",
   "execution_count": null,
   "id": "ea147fa8",
   "metadata": {},
   "outputs": [],
   "source": []
  },
  {
   "cell_type": "code",
   "execution_count": null,
   "id": "61ccc2ce",
   "metadata": {},
   "outputs": [],
   "source": []
  },
  {
   "cell_type": "code",
   "execution_count": null,
   "id": "fad31e12",
   "metadata": {},
   "outputs": [],
   "source": []
  },
  {
   "cell_type": "code",
   "execution_count": null,
   "id": "bb37db03",
   "metadata": {},
   "outputs": [],
   "source": []
  },
  {
   "cell_type": "code",
   "execution_count": null,
   "id": "4d526fcd",
   "metadata": {},
   "outputs": [],
   "source": []
  }
 ],
 "metadata": {
  "kernelspec": {
   "display_name": "Python 3 (ipykernel)",
   "language": "python",
   "name": "python3"
  },
  "language_info": {
   "codemirror_mode": {
    "name": "ipython",
    "version": 3
   },
   "file_extension": ".py",
   "mimetype": "text/x-python",
   "name": "python",
   "nbconvert_exporter": "python",
   "pygments_lexer": "ipython3",
   "version": "3.11.6"
  }
 },
 "nbformat": 4,
 "nbformat_minor": 5
}
