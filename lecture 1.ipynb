{
 "cells": [
  {
   "cell_type": "code",
   "execution_count": 1,
   "id": "77dda037",
   "metadata": {},
   "outputs": [
    {
     "name": "stdout",
     "output_type": "stream",
     "text": [
      "Apple\n",
      "is\n",
      "looking\n",
      "at\n",
      "buying\n",
      "U.K.\n",
      "startup\n",
      "for\n",
      "$\n",
      "1\n",
      "billion\n"
     ]
    }
   ],
   "source": [
    "\n",
    "import spacy\n",
    "\n",
    "# মডেল লোড করা\n",
    "nlp = spacy.load(\"en_core_web_sm\")\n",
    "\n",
    "doc = nlp(\"Apple is looking at buying U.K. startup for $1 billion\")\n",
    "for token in doc:\n",
    "    print(token.text)\n"
   ]
  },
  {
   "cell_type": "code",
   "execution_count": 2,
   "id": "6a875157",
   "metadata": {},
   "outputs": [
    {
     "name": "stdout",
     "output_type": "stream",
     "text": [
      "PROPN\n",
      "AUX\n",
      "VERB\n",
      "ADP\n",
      "VERB\n",
      "PROPN\n",
      "VERB\n",
      "ADP\n",
      "SYM\n",
      "NUM\n",
      "NUM\n"
     ]
    }
   ],
   "source": [
    "for token in doc:\n",
    "    print(token.pos_)"
   ]
  },
  {
   "cell_type": "code",
   "execution_count": 3,
   "id": "17b2fa35",
   "metadata": {},
   "outputs": [
    {
     "name": "stdout",
     "output_type": "stream",
     "text": [
      "nsubj\n",
      "aux\n",
      "ROOT\n",
      "prep\n",
      "pcomp\n",
      "nsubj\n",
      "ccomp\n",
      "prep\n",
      "quantmod\n",
      "compound\n",
      "pobj\n"
     ]
    }
   ],
   "source": [
    "for token in doc:\n",
    "    print(token.dep_)\n",
    "    "
   ]
  },
  {
   "cell_type": "markdown",
   "id": "df73b317",
   "metadata": {},
   "source": [
    "# Tokenization"
   ]
  },
  {
   "cell_type": "code",
   "execution_count": 4,
   "id": "0030d330",
   "metadata": {},
   "outputs": [
    {
     "name": "stdout",
     "output_type": "stream",
     "text": [
      "Apple\n",
      "is\n",
      "looking\n",
      "at\n",
      "buying\n",
      "U.K.\n",
      "startup\n",
      "for\n",
      "$\n",
      "1\n",
      "billion\n"
     ]
    }
   ],
   "source": [
    "for token in doc:\n",
    "    print(token.text)"
   ]
  },
  {
   "cell_type": "code",
   "execution_count": 5,
   "id": "6e15231c",
   "metadata": {},
   "outputs": [
    {
     "name": "stdout",
     "output_type": "stream",
     "text": [
      "Apple\n",
      "be\n",
      "look\n",
      "at\n",
      "buy\n",
      "U.K.\n",
      "startup\n",
      "for\n",
      "$\n",
      "1\n",
      "billion\n"
     ]
    }
   ],
   "source": [
    "for token in doc:\n",
    "    print(token.lemma_)"
   ]
  },
  {
   "cell_type": "code",
   "execution_count": 6,
   "id": "9870a7fd",
   "metadata": {},
   "outputs": [
    {
     "name": "stdout",
     "output_type": "stream",
     "text": [
      "PROPN\n",
      "AUX\n",
      "VERB\n",
      "ADP\n",
      "VERB\n",
      "PROPN\n",
      "VERB\n",
      "ADP\n",
      "SYM\n",
      "NUM\n",
      "NUM\n"
     ]
    }
   ],
   "source": [
    "for token in doc:\n",
    "    print(token.pos_)"
   ]
  },
  {
   "cell_type": "code",
   "execution_count": 7,
   "id": "cae60bc8",
   "metadata": {},
   "outputs": [
    {
     "name": "stdout",
     "output_type": "stream",
     "text": [
      "NNP\n",
      "VBZ\n",
      "VBG\n",
      "IN\n",
      "VBG\n",
      "NNP\n",
      "VBD\n",
      "IN\n",
      "$\n",
      "CD\n",
      "CD\n"
     ]
    }
   ],
   "source": [
    "for token in doc:\n",
    "    print(token.tag_)"
   ]
  },
  {
   "cell_type": "code",
   "execution_count": 8,
   "id": "795a6e3a",
   "metadata": {},
   "outputs": [
    {
     "name": "stdout",
     "output_type": "stream",
     "text": [
      "nsubj\n",
      "aux\n",
      "ROOT\n",
      "prep\n",
      "pcomp\n",
      "nsubj\n",
      "ccomp\n",
      "prep\n",
      "quantmod\n",
      "compound\n",
      "pobj\n"
     ]
    }
   ],
   "source": [
    "for token in doc:\n",
    "    print(token.dep_)"
   ]
  },
  {
   "cell_type": "code",
   "execution_count": 9,
   "id": "94732f97",
   "metadata": {},
   "outputs": [
    {
     "name": "stdout",
     "output_type": "stream",
     "text": [
      "Xxxxx\n",
      "xx\n",
      "xxxx\n",
      "xx\n",
      "xxxx\n",
      "X.X.\n",
      "xxxx\n",
      "xxx\n",
      "$\n",
      "d\n",
      "xxxx\n"
     ]
    }
   ],
   "source": [
    "for token in doc:\n",
    "    print(token.shape_)"
   ]
  },
  {
   "cell_type": "code",
   "execution_count": 10,
   "id": "b61394e6",
   "metadata": {},
   "outputs": [
    {
     "name": "stdout",
     "output_type": "stream",
     "text": [
      "True\n",
      "True\n",
      "True\n",
      "True\n",
      "True\n",
      "False\n",
      "True\n",
      "True\n",
      "False\n",
      "False\n",
      "True\n"
     ]
    }
   ],
   "source": [
    "for token in doc:\n",
    "    print(token.is_alpha)"
   ]
  },
  {
   "cell_type": "code",
   "execution_count": 11,
   "id": "4d943a2e",
   "metadata": {},
   "outputs": [
    {
     "name": "stdout",
     "output_type": "stream",
     "text": [
      "False\n",
      "True\n",
      "False\n",
      "True\n",
      "False\n",
      "False\n",
      "False\n",
      "True\n",
      "False\n",
      "False\n",
      "False\n"
     ]
    }
   ],
   "source": [
    "for token in doc:\n",
    "    print(token.is_stop)"
   ]
  },
  {
   "cell_type": "raw",
   "id": "482de2a2",
   "metadata": {},
   "source": [
    "Text: The original word text.\n",
    "Lemma: The base form of the word.\n",
    "POS: The simple UPOS part-of-speech tag.\n",
    "Tag: The detailed part-of-speech tag.\n",
    "Dep: Syntactic dependency, i.e. the relation between tokens.\n",
    "Shape: The word shape – capitalization, punctuation, digits.\n",
    "is alpha: Is the token an alpha character?\n",
    "is stop: Is the token part of a stop list, i.e. the most common words of the language?"
   ]
  },
  {
   "cell_type": "markdown",
   "id": "51999571",
   "metadata": {},
   "source": [
    "# Named Entities"
   ]
  },
  {
   "cell_type": "markdown",
   "id": "8315068c",
   "metadata": {},
   "source": [
    "Text: The original entity text.\n",
    "Start: Index of start of entity in the Doc.\n",
    "End: Index of end of entity in the Doc.\n",
    "Label: Entity label, i.e. type."
   ]
  },
  {
   "cell_type": "code",
   "execution_count": 12,
   "id": "c10d2223",
   "metadata": {},
   "outputs": [
    {
     "name": "stdout",
     "output_type": "stream",
     "text": [
      "text:  Apple\n",
      "text:  U.K.\n",
      "text:  $1 billion\n"
     ]
    }
   ],
   "source": [
    "for ent in doc.ents:\n",
    "    print(\"text: \",ent.text)\n",
    "  "
   ]
  },
  {
   "cell_type": "code",
   "execution_count": 13,
   "id": "a2618688",
   "metadata": {},
   "outputs": [
    {
     "name": "stdout",
     "output_type": "stream",
     "text": [
      "start_char:  0\n",
      "start_char:  27\n",
      "start_char:  44\n"
     ]
    }
   ],
   "source": [
    "for ent in doc.ents:\n",
    "    print(\"start_char: \",ent.start_char)\n",
    "  "
   ]
  },
  {
   "cell_type": "code",
   "execution_count": 14,
   "id": "81dadfb2",
   "metadata": {},
   "outputs": [
    {
     "name": "stdout",
     "output_type": "stream",
     "text": [
      "end_char:  5\n",
      "end_char:  31\n",
      "end_char:  54\n"
     ]
    }
   ],
   "source": [
    "for ent in doc.ents:\n",
    "    print(\"end_char: \",ent.end_char)\n",
    "  "
   ]
  },
  {
   "cell_type": "code",
   "execution_count": 15,
   "id": "0e8aa79f",
   "metadata": {},
   "outputs": [
    {
     "name": "stdout",
     "output_type": "stream",
     "text": [
      "label:  ORG\n",
      "label:  GPE\n",
      "label:  MONEY\n"
     ]
    }
   ],
   "source": [
    "for ent in doc.ents:\n",
    "    print(\"label: \",ent.label_)\n",
    "  "
   ]
  },
  {
   "cell_type": "markdown",
   "id": "ae8682e6",
   "metadata": {},
   "source": [
    "# Word vector and similarity"
   ]
  },
  {
   "cell_type": "raw",
   "id": "40ad49cc",
   "metadata": {},
   "source": [
    "Text: The original token text.\n",
    "has vector: Does the token have a vector representation?\n",
    "Vector norm: The L2 norm of the token’s vector (the square root of the sum of the values squared)\n",
    "OOV: Out-of-vocabulary\n"
   ]
  },
  {
   "cell_type": "code",
   "execution_count": 16,
   "id": "0d511775",
   "metadata": {},
   "outputs": [
    {
     "name": "stdout",
     "output_type": "stream",
     "text": [
      "Apple\n",
      "is\n",
      "looking\n",
      "at\n",
      "buying\n",
      "U.K.\n",
      "startup\n",
      "for\n",
      "$\n",
      "1\n",
      "billion\n"
     ]
    }
   ],
   "source": [
    "for token in doc:\n",
    "    print(token.text)"
   ]
  },
  {
   "cell_type": "code",
   "execution_count": 17,
   "id": "897f2dd4",
   "metadata": {},
   "outputs": [
    {
     "name": "stdout",
     "output_type": "stream",
     "text": [
      "True\n",
      "True\n",
      "True\n",
      "True\n",
      "True\n",
      "True\n",
      "True\n",
      "True\n",
      "True\n",
      "True\n",
      "True\n"
     ]
    }
   ],
   "source": [
    "for token in doc:\n",
    "    print(token.has_vector)"
   ]
  },
  {
   "cell_type": "code",
   "execution_count": 18,
   "id": "3d09345a",
   "metadata": {},
   "outputs": [
    {
     "name": "stdout",
     "output_type": "stream",
     "text": [
      "6.7813044\n",
      "7.497386\n",
      "6.7997518\n",
      "6.765654\n",
      "8.256932\n",
      "7.4931884\n",
      "5.2585325\n",
      "6.5701003\n",
      "8.750212\n",
      "9.714703\n",
      "7.9830933\n"
     ]
    }
   ],
   "source": [
    "for token in doc:\n",
    "    print(token.vector_norm)"
   ]
  },
  {
   "cell_type": "code",
   "execution_count": 19,
   "id": "cf96c9c3",
   "metadata": {},
   "outputs": [
    {
     "name": "stdout",
     "output_type": "stream",
     "text": [
      "True\n",
      "True\n",
      "True\n",
      "True\n",
      "True\n",
      "True\n",
      "True\n",
      "True\n",
      "True\n",
      "True\n",
      "True\n"
     ]
    }
   ],
   "source": [
    "for token in doc:\n",
    "    print(token.is_oov)"
   ]
  },
  {
   "cell_type": "code",
   "execution_count": null,
   "id": "08e48015",
   "metadata": {},
   "outputs": [],
   "source": []
  },
  {
   "cell_type": "code",
   "execution_count": null,
   "id": "75972a77",
   "metadata": {},
   "outputs": [],
   "source": []
  },
  {
   "cell_type": "code",
   "execution_count": null,
   "id": "2845350e",
   "metadata": {},
   "outputs": [],
   "source": []
  }
 ],
 "metadata": {
  "kernelspec": {
   "display_name": "Python 3 (ipykernel)",
   "language": "python",
   "name": "python3"
  },
  "language_info": {
   "codemirror_mode": {
    "name": "ipython",
    "version": 3
   },
   "file_extension": ".py",
   "mimetype": "text/x-python",
   "name": "python",
   "nbconvert_exporter": "python",
   "pygments_lexer": "ipython3",
   "version": "3.11.6"
  }
 },
 "nbformat": 4,
 "nbformat_minor": 5
}
