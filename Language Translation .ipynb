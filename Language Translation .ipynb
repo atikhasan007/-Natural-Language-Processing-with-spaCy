{
 "cells": [
  {
   "cell_type": "markdown",
   "id": "0081d52b",
   "metadata": {},
   "source": [
    "# Language Translate Tool\n"
   ]
  },
  {
   "cell_type": "code",
   "execution_count": 1,
   "id": "66933962",
   "metadata": {},
   "outputs": [
    {
     "name": "stdout",
     "output_type": "stream",
     "text": [
      "আমার নাম আতিক\n"
     ]
    }
   ],
   "source": [
    "from deep_translator import GoogleTranslator\n",
    "\n",
    "text = \"my name is atik\"\n",
    "print(GoogleTranslator(source='en', target='bn').translate(text))\n"
   ]
  },
  {
   "cell_type": "code",
   "execution_count": 2,
   "id": "6f9de9d5",
   "metadata": {},
   "outputs": [],
   "source": [
    "def trans(text, target_lang):\n",
    "    trans_text = GoogleTranslator(target=target_lang).translate(text)\n",
    "    return trans_text\n",
    "    "
   ]
  },
  {
   "cell_type": "code",
   "execution_count": 3,
   "id": "8de3cacb",
   "metadata": {},
   "outputs": [
    {
     "data": {
      "text/plain": [
       "'আতিক হাসান আরিক'"
      ]
     },
     "execution_count": 3,
     "metadata": {},
     "output_type": "execute_result"
    }
   ],
   "source": [
    "trans(\"atik hasan arik\",'bn')"
   ]
  },
  {
   "cell_type": "code",
   "execution_count": 15,
   "id": "178bc4dd",
   "metadata": {},
   "outputs": [
    {
     "name": "stdout",
     "output_type": "stream",
     "text": [
      "\n",
      " Language Translation tool...\n",
      "Enter your text....he is a good boy\n",
      "To translate lang....bn\n",
      "Translation : তিনি একটি ভাল ছেলে\n",
      "\n",
      " Language Translation tool...\n",
      "Enter your text....exit\n"
     ]
    }
   ],
   "source": [
    "while True:\n",
    "    print(\"\\n Language Translation tool...\")\n",
    "    input_text = input(\"Enter your text....\")\n",
    "    if input_text == \"exit\":\n",
    "        break\n",
    "    target_lang = input(\"To translate lang....\")\n",
    "    trans_text = trans(input_text, target_lang)\n",
    "    print(\"Translation :\", trans_text)\n",
    "   \n",
    "        "
   ]
  },
  {
   "cell_type": "code",
   "execution_count": null,
   "id": "2f26c9de",
   "metadata": {},
   "outputs": [],
   "source": []
  },
  {
   "cell_type": "code",
   "execution_count": null,
   "id": "e68784c0",
   "metadata": {},
   "outputs": [],
   "source": []
  },
  {
   "cell_type": "code",
   "execution_count": null,
   "id": "926ff094",
   "metadata": {},
   "outputs": [],
   "source": []
  },
  {
   "cell_type": "code",
   "execution_count": null,
   "id": "89cc6283",
   "metadata": {},
   "outputs": [],
   "source": []
  },
  {
   "cell_type": "code",
   "execution_count": null,
   "id": "6ab43c0b",
   "metadata": {},
   "outputs": [],
   "source": []
  },
  {
   "cell_type": "code",
   "execution_count": null,
   "id": "1de2e5ce",
   "metadata": {},
   "outputs": [],
   "source": []
  }
 ],
 "metadata": {
  "kernelspec": {
   "display_name": "Python 3 (ipykernel)",
   "language": "python",
   "name": "python3"
  },
  "language_info": {
   "codemirror_mode": {
    "name": "ipython",
    "version": 3
   },
   "file_extension": ".py",
   "mimetype": "text/x-python",
   "name": "python",
   "nbconvert_exporter": "python",
   "pygments_lexer": "ipython3",
   "version": "3.11.6"
  }
 },
 "nbformat": 4,
 "nbformat_minor": 5
}
